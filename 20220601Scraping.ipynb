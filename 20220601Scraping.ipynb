{
 "cells": [
  {
   "cell_type": "code",
   "execution_count": null,
   "id": "bd1d79ce",
   "metadata": {},
   "outputs": [],
   "source": [
    "#import here\n",
    "from bs4 import BeautifulSoup\n",
    "import requests\n",
    "import pandas as pd \n",
    "import concurent.future as cf"
   ]
  },
  {
   "cell_type": "code",
   "execution_count": 92,
   "id": "6fae0365",
   "metadata": {},
   "outputs": [],
   "source": [
    "ua = {\"User-Agent\":\"Mozilla/5.0 (Windows NT 10.0; Win64; x64) AppleWebKit/537.36 (KHTML, like Gecko) Chrome/92.0.4515.107 Safari/537.36 Edg/92.0.902.62\"}\n",
    "website = 'https://mixergy.com/interviews/'"
   ]
  },
  {
   "cell_type": "code",
   "execution_count": 95,
   "id": "af0d7b32",
   "metadata": {},
   "outputs": [
    {
     "data": {
      "text/plain": [
       "<Response [200]>"
      ]
     },
     "execution_count": 95,
     "metadata": {},
     "output_type": "execute_result"
    }
   ],
   "source": [
    "response = requests.get(website) "
   ]
  },
  {
   "cell_type": "code",
   "execution_count": 96,
   "id": "705244bb",
   "metadata": {},
   "outputs": [
    {
     "data": {
      "text/plain": [
       "200"
      ]
     },
     "execution_count": 96,
     "metadata": {},
     "output_type": "execute_result"
    }
   ],
   "source": [
    "response.status_code"
   ]
  },
  {
   "cell_type": "code",
   "execution_count": 97,
   "id": "38bd2284",
   "metadata": {},
   "outputs": [],
   "source": [
    "soup = BeautifulSoup(response.content, 'html.parser')"
   ]
  },
  {
   "cell_type": "code",
   "execution_count": 109,
   "id": "6b1af94a",
   "metadata": {},
   "outputs": [],
   "source": [
    "results = soup.find_all('div', {'class':'col-sm-4'})"
   ]
  },
  {
   "cell_type": "code",
   "execution_count": 110,
   "id": "9bfae3e1",
   "metadata": {},
   "outputs": [
    {
     "data": {
      "text/plain": [
       "15"
      ]
     },
     "execution_count": 110,
     "metadata": {},
     "output_type": "execute_result"
    }
   ],
   "source": [
    "len(results)"
   ]
  },
  {
   "cell_type": "code",
   "execution_count": 111,
   "id": "dd6097b0",
   "metadata": {},
   "outputs": [
    {
     "data": {
      "text/plain": [
       "<div class=\"col-sm-4\">\n",
       "<div class=\"card small interview clickable\" data-clickurl=\"https://mixergy.com/interviews/profitwell-with-patrick-campbell/\">\n",
       "<header class=\"clearfix\">\n",
       "<img alt=\"Patrick Campbell\" class=\"img-responsive\" src=\"https://mixergy.com/wp-content/uploads/2022/05/1522429087940-60x60.jpg\"/>\n",
       "<h3>Patrick Campbell</h3>\n",
       "<span>ProfitWell</span>\n",
       "</header>\n",
       "<div class=\"content\">\n",
       "<a href=\"https://mixergy.com/interviews/profitwell-with-patrick-campbell/\">First interview: Profitwell bootstrapped to $200 million</a>\n",
       "</div>\n",
       "<footer class=\"clearfix\">\n",
       "<div class=\"mixergy-like cancel-clickable has-not-liked mini mixergy-likes-post-94999\" data-post-id=\"94999\">\n",
       "<i aria-hidden=\"true\" class=\"cancel-clickable glyphicon glyphicon glyphicon-triangle-top\"></i>\n",
       "<span class=\"number likes-count-number cancel-clickable mixergy-likes-count-post-94999\">1</span>\n",
       "<span class=\"cancel-clickable mixergy-likes-message-post-94999\">like</span>\n",
       "</div> <div class=\"cancel-clickable add-to-collection-button add-to-collection-button-94999\" data-postid=\"94999\">+ Add to</div> <div class=\"date\">\n",
       "\t\t\t\tMay 27, 2022            </div>\n",
       "<div class=\"episode-number\">#2,195</div>\n",
       "</footer>\n",
       "</div>\n",
       "</div>"
      ]
     },
     "execution_count": 111,
     "metadata": {},
     "output_type": "execute_result"
    }
   ],
   "source": [
    "results[0]"
   ]
  },
  {
   "cell_type": "code",
   "execution_count": 112,
   "id": "0a76be1b",
   "metadata": {},
   "outputs": [
    {
     "data": {
      "text/plain": [
       "'Patrick Campbell'"
      ]
     },
     "execution_count": 112,
     "metadata": {},
     "output_type": "execute_result"
    }
   ],
   "source": [
    "#name\n",
    "results[0].find('h3').get_text().strip()\n",
    "\n"
   ]
  },
  {
   "cell_type": "code",
   "execution_count": 113,
   "id": "287b78c3",
   "metadata": {},
   "outputs": [
    {
     "data": {
      "text/plain": [
       "'May 27, 2022'"
      ]
     },
     "execution_count": 113,
     "metadata": {},
     "output_type": "execute_result"
    }
   ],
   "source": [
    "#date\n",
    "results[0].find('div',{'class':'date'}).get_text().strip()"
   ]
  },
  {
   "cell_type": "code",
   "execution_count": 126,
   "id": "c3120323",
   "metadata": {},
   "outputs": [],
   "source": [
    "#url\n",
    "url = results[0].find('a')['href']"
   ]
  },
  {
   "cell_type": "code",
   "execution_count": 127,
   "id": "4b71fa9b",
   "metadata": {},
   "outputs": [
    {
     "data": {
      "text/plain": [
       "200"
      ]
     },
     "execution_count": 127,
     "metadata": {},
     "output_type": "execute_result"
    }
   ],
   "source": [
    "website2 = url\n",
    "response2 = requests.get(website2) \n",
    "response2.status_code"
   ]
  },
  {
   "cell_type": "code",
   "execution_count": 128,
   "id": "6af99343",
   "metadata": {},
   "outputs": [],
   "source": [
    "soup2 = BeautifulSoup(response2.content, 'html.parser')"
   ]
  },
  {
   "cell_type": "code",
   "execution_count": 129,
   "id": "8f8ed6e5",
   "metadata": {},
   "outputs": [],
   "source": [
    "results2 = soup2.find('div', {'class':'sponsor'}).find('div',{'class':'col-sm-12'}).find_all('p')"
   ]
  },
  {
   "cell_type": "code",
   "execution_count": 131,
   "id": "5987ce26",
   "metadata": {},
   "outputs": [
    {
     "data": {
      "text/plain": [
       "2"
      ]
     },
     "execution_count": 131,
     "metadata": {},
     "output_type": "execute_result"
    }
   ],
   "source": [
    "len(results2)"
   ]
  },
  {
   "cell_type": "code",
   "execution_count": 135,
   "id": "9cb29dd5",
   "metadata": {},
   "outputs": [
    {
     "data": {
      "text/plain": [
       "'Lemon.io'"
      ]
     },
     "execution_count": 135,
     "metadata": {},
     "output_type": "execute_result"
    }
   ],
   "source": [
    "#sponsor\n",
    "sponsor = results2[0].find_all('a')\n",
    "sponsor[0].text"
   ]
  },
  {
   "cell_type": "code",
   "execution_count": 145,
   "id": "88f5ca9d",
   "metadata": {},
   "outputs": [
    {
     "data": {
      "text/plain": [
       "'Lemon.io,Masterworks'"
      ]
     },
     "execution_count": 145,
     "metadata": {},
     "output_type": "execute_result"
    }
   ],
   "source": [
    "#Gabungin Sponsor\n",
    "sponsor=[]\n",
    "for result2 in results2:\n",
    "    sponsorTmp = result2.find_all('a')\n",
    "    sponsor.append(sponsorTmp[0].text)\n",
    "joined_sponsor = \",\". join(sponsor)\n",
    "joined_sponsor"
   ]
  },
  {
   "cell_type": "code",
   "execution_count": 146,
   "id": "8e0dbefd",
   "metadata": {},
   "outputs": [],
   "source": [
    "#GABUNG ONE PAGE\n",
    "name=[]\n",
    "date=[]\n",
    "sponsor=[]\n",
    "for res in results :\n",
    "    name.append(res.find('h3').get_text().strip())\n",
    "    date.append(res.find('div',{'class':'date'}).get_text().strip())\n",
    "    \n",
    "    #GET URL\n",
    "    url = res.find('a')['href']\n",
    "    website3 = url\n",
    "    response3 = requests.get(website3) \n",
    "    response3.status_code\n",
    "    \n",
    "    soup3 = BeautifulSoup(response3.content, 'html.parser')\n",
    "    results3 = soup3.find('div', {'class':'sponsor'}).find('div',{'class':'col-sm-12'}).find_all('p')\n",
    "    \n",
    "    sponsorTMP1=[]\n",
    "    for result3 in results3:\n",
    "        sponsorTmp2 = result3.find_all('a')\n",
    "        sponsorTMP1.append(sponsorTmp2[0].text)\n",
    "    joined_sponsorTMP1 = \",\". join(sponsorTMP1)\n",
    "    sponsor.append(joined_sponsorTMP1)\n",
    "    "
   ]
  },
  {
   "cell_type": "code",
   "execution_count": 148,
   "id": "5d92426c",
   "metadata": {},
   "outputs": [
    {
     "name": "stdout",
     "output_type": "stream",
     "text": [
      "['Lemon.io,Masterworks', 'Lemon.io,Masterworks', 'Sendinblue,Masterworks', 'Sendinblue,Lemon.io', 'Lemon.io,Masterworks', 'Sendinblue,Masterworks', 'Sendinblue,Lemon.io', 'Sendinblue,Lemon.io', 'Sendinblue,Masterworks', 'Gusto,Lemon.io', 'Lemon.io,Masterworks', 'Sendinblue', 'Sendinblue', 'Gusto,Lemon.io', 'Gusto,Lemon.io']\n",
      "['Patrick Campbell', 'Tyler Tringas', 'Rishi Mandal', 'Ryan Shearman', 'Sabrina Noorani', 'Bryan Clayton', 'Brian Johnson', 'Matt Giffune', 'Dylan Buckley', 'Richard Mabey', 'Anthony Welgemoed', 'Aleksandr Volodarsky', 'Kevin Sahin', 'Mike Evans', 'James Clift']\n",
      "['May 27, 2022', 'May 23, 2022', 'May 16, 2022', 'May 9, 2022', 'May 2, 2022', 'Apr 25, 2022', 'Apr 18, 2022', 'Apr 11, 2022', 'Apr 4, 2022', 'Mar 28, 2022', 'Mar 21, 2022', 'Mar 17, 2022', 'Mar 14, 2022', 'Mar 7, 2022', 'Feb 28, 2022']\n"
     ]
    }
   ],
   "source": [
    "print(sponsor)\n",
    "print(name)\n",
    "print(date)"
   ]
  },
  {
   "cell_type": "code",
   "execution_count": 151,
   "id": "9b95c977",
   "metadata": {},
   "outputs": [],
   "source": [
    "# create dataframe\n",
    "inteview = pd.DataFrame({'Name': name, 'Date':date, 'Sponsor':sponsor})"
   ]
  },
  {
   "cell_type": "code",
   "execution_count": 152,
   "id": "2bfabc7c",
   "metadata": {},
   "outputs": [
    {
     "data": {
      "text/html": [
       "<div>\n",
       "<style scoped>\n",
       "    .dataframe tbody tr th:only-of-type {\n",
       "        vertical-align: middle;\n",
       "    }\n",
       "\n",
       "    .dataframe tbody tr th {\n",
       "        vertical-align: top;\n",
       "    }\n",
       "\n",
       "    .dataframe thead th {\n",
       "        text-align: right;\n",
       "    }\n",
       "</style>\n",
       "<table border=\"1\" class=\"dataframe\">\n",
       "  <thead>\n",
       "    <tr style=\"text-align: right;\">\n",
       "      <th></th>\n",
       "      <th>Name</th>\n",
       "      <th>Date</th>\n",
       "      <th>Sponsor</th>\n",
       "    </tr>\n",
       "  </thead>\n",
       "  <tbody>\n",
       "    <tr>\n",
       "      <th>0</th>\n",
       "      <td>Patrick Campbell</td>\n",
       "      <td>May 27, 2022</td>\n",
       "      <td>Lemon.io,Masterworks</td>\n",
       "    </tr>\n",
       "    <tr>\n",
       "      <th>1</th>\n",
       "      <td>Tyler Tringas</td>\n",
       "      <td>May 23, 2022</td>\n",
       "      <td>Lemon.io,Masterworks</td>\n",
       "    </tr>\n",
       "    <tr>\n",
       "      <th>2</th>\n",
       "      <td>Rishi Mandal</td>\n",
       "      <td>May 16, 2022</td>\n",
       "      <td>Sendinblue,Masterworks</td>\n",
       "    </tr>\n",
       "    <tr>\n",
       "      <th>3</th>\n",
       "      <td>Ryan Shearman</td>\n",
       "      <td>May 9, 2022</td>\n",
       "      <td>Sendinblue,Lemon.io</td>\n",
       "    </tr>\n",
       "    <tr>\n",
       "      <th>4</th>\n",
       "      <td>Sabrina Noorani</td>\n",
       "      <td>May 2, 2022</td>\n",
       "      <td>Lemon.io,Masterworks</td>\n",
       "    </tr>\n",
       "    <tr>\n",
       "      <th>5</th>\n",
       "      <td>Bryan Clayton</td>\n",
       "      <td>Apr 25, 2022</td>\n",
       "      <td>Sendinblue,Masterworks</td>\n",
       "    </tr>\n",
       "    <tr>\n",
       "      <th>6</th>\n",
       "      <td>Brian Johnson</td>\n",
       "      <td>Apr 18, 2022</td>\n",
       "      <td>Sendinblue,Lemon.io</td>\n",
       "    </tr>\n",
       "    <tr>\n",
       "      <th>7</th>\n",
       "      <td>Matt Giffune</td>\n",
       "      <td>Apr 11, 2022</td>\n",
       "      <td>Sendinblue,Lemon.io</td>\n",
       "    </tr>\n",
       "    <tr>\n",
       "      <th>8</th>\n",
       "      <td>Dylan Buckley</td>\n",
       "      <td>Apr 4, 2022</td>\n",
       "      <td>Sendinblue,Masterworks</td>\n",
       "    </tr>\n",
       "    <tr>\n",
       "      <th>9</th>\n",
       "      <td>Richard Mabey</td>\n",
       "      <td>Mar 28, 2022</td>\n",
       "      <td>Gusto,Lemon.io</td>\n",
       "    </tr>\n",
       "    <tr>\n",
       "      <th>10</th>\n",
       "      <td>Anthony Welgemoed</td>\n",
       "      <td>Mar 21, 2022</td>\n",
       "      <td>Lemon.io,Masterworks</td>\n",
       "    </tr>\n",
       "    <tr>\n",
       "      <th>11</th>\n",
       "      <td>Aleksandr Volodarsky</td>\n",
       "      <td>Mar 17, 2022</td>\n",
       "      <td>Sendinblue</td>\n",
       "    </tr>\n",
       "    <tr>\n",
       "      <th>12</th>\n",
       "      <td>Kevin Sahin</td>\n",
       "      <td>Mar 14, 2022</td>\n",
       "      <td>Sendinblue</td>\n",
       "    </tr>\n",
       "    <tr>\n",
       "      <th>13</th>\n",
       "      <td>Mike Evans</td>\n",
       "      <td>Mar 7, 2022</td>\n",
       "      <td>Gusto,Lemon.io</td>\n",
       "    </tr>\n",
       "    <tr>\n",
       "      <th>14</th>\n",
       "      <td>James Clift</td>\n",
       "      <td>Feb 28, 2022</td>\n",
       "      <td>Gusto,Lemon.io</td>\n",
       "    </tr>\n",
       "  </tbody>\n",
       "</table>\n",
       "</div>"
      ],
      "text/plain": [
       "                    Name          Date                 Sponsor\n",
       "0       Patrick Campbell  May 27, 2022    Lemon.io,Masterworks\n",
       "1          Tyler Tringas  May 23, 2022    Lemon.io,Masterworks\n",
       "2           Rishi Mandal  May 16, 2022  Sendinblue,Masterworks\n",
       "3          Ryan Shearman   May 9, 2022     Sendinblue,Lemon.io\n",
       "4        Sabrina Noorani   May 2, 2022    Lemon.io,Masterworks\n",
       "5          Bryan Clayton  Apr 25, 2022  Sendinblue,Masterworks\n",
       "6          Brian Johnson  Apr 18, 2022     Sendinblue,Lemon.io\n",
       "7           Matt Giffune  Apr 11, 2022     Sendinblue,Lemon.io\n",
       "8          Dylan Buckley   Apr 4, 2022  Sendinblue,Masterworks\n",
       "9          Richard Mabey  Mar 28, 2022          Gusto,Lemon.io\n",
       "10     Anthony Welgemoed  Mar 21, 2022    Lemon.io,Masterworks\n",
       "11  Aleksandr Volodarsky  Mar 17, 2022              Sendinblue\n",
       "12           Kevin Sahin  Mar 14, 2022              Sendinblue\n",
       "13            Mike Evans   Mar 7, 2022          Gusto,Lemon.io\n",
       "14           James Clift  Feb 28, 2022          Gusto,Lemon.io"
      ]
     },
     "execution_count": 152,
     "metadata": {},
     "output_type": "execute_result"
    }
   ],
   "source": [
    "inteview"
   ]
  },
  {
   "cell_type": "code",
   "execution_count": 153,
   "id": "61f8e0d2",
   "metadata": {},
   "outputs": [],
   "source": [
    "inteview.to_excel('inteview.xlsx', index=False)"
   ]
  },
  {
   "cell_type": "code",
   "execution_count": null,
   "id": "f5d8c35a",
   "metadata": {},
   "outputs": [],
   "source": [
    "#AMBILL SEMUA PAGGING\n",
    "#URL : https://mixergy.com/interviews/page/2/ \n",
    "name=[]\n",
    "date=[]\n",
    "sponsor=[]\n",
    "for i in range(1,2):\n",
    "    print(i) \n",
    "    #website \n",
    "    website ='https://mixergy.com/interviews/page/'+str(i)\n",
    "    response = requests.get(website) \n",
    "    response.status_code\n",
    "    soup = BeautifulSoup(response.content, 'html.parser')\n",
    "    results = soup.find_all('div', {'class':'col-sm-4'})\n",
    "    for res in results :\n",
    "        name.append(res.find('h3').get_text().strip())\n",
    "        date.append(res.find('div',{'class':'date'}).get_text().strip())\n",
    "        \n",
    "        #GET URL\n",
    "        try:\n",
    "            url = res.find('a')['href']\n",
    "            website3 = url\n",
    "            response3 = requests.get(website3) \n",
    "            status = response3.status_code\n",
    "            if status == 200:\n",
    "                soup3 = BeautifulSoup(response3.content, 'html.parser')\n",
    "                results3 = soup3.find('div', {'class':'sponsor'}).find('div',{'class':'col-sm-12'}).find_all('p')\n",
    "                sponsorTMP1=[]\n",
    "                for result3 in results3:\n",
    "                    sponsorTmp2 = result3.find_all('a')\n",
    "                    sponsorTMP1.append(sponsorTmp2[0].text)\n",
    "                joined_sponsorTMP1 = \",\". join(sponsorTMP1)\n",
    "                sponsor.append(joined_sponsorTMP1)\n",
    "            else:\n",
    "                sponsor.append('-')\n",
    "        except:\n",
    "            sponsor.append('-')\n",
    "\n",
    "details = {} \n",
    "details = {\"name\": [], \"date\": [], \"sponsor\": []}\n",
    "if \"name\" in details:\n",
    "    details[\"name\"].append(name)\n",
    "if \"date\" in details:\n",
    "    details[\"date\"].append(date)\n",
    "if \"sponsor\" in details:\n",
    "    details[\"sponsor\"].append(sponsor)"
   ]
  },
  {
   "cell_type": "code",
   "execution_count": null,
   "id": "d45a3ac8",
   "metadata": {},
   "outputs": [],
   "source": [
    "inteview = pd.DataFrame({'Name': name, 'Date':date, 'Sponsor':sponsor})"
   ]
  },
  {
   "cell_type": "code",
   "execution_count": 167,
   "id": "bf95102c",
   "metadata": {},
   "outputs": [],
   "source": [
    "inteview.to_excel('inteview4.xlsx', index=False)"
   ]
  },
  {
   "cell_type": "code",
   "execution_count": 168,
   "id": "22161ecf",
   "metadata": {},
   "outputs": [],
   "source": []
  },
  {
   "cell_type": "code",
   "execution_count": null,
   "id": "527f79ae",
   "metadata": {},
   "outputs": [],
   "source": []
  }
 ],
 "metadata": {
  "kernelspec": {
   "display_name": "Python 3 (ipykernel)",
   "language": "python",
   "name": "python3"
  },
  "language_info": {
   "codemirror_mode": {
    "name": "ipython",
    "version": 3
   },
   "file_extension": ".py",
   "mimetype": "text/x-python",
   "name": "python",
   "nbconvert_exporter": "python",
   "pygments_lexer": "ipython3",
   "version": "3.8.13"
  }
 },
 "nbformat": 4,
 "nbformat_minor": 5
}
